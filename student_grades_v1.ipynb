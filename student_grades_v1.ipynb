{
 "cells": [
  {
   "cell_type": "code",
   "execution_count": 103,
   "metadata": {
    "ExecuteTime": {
     "end_time": "2020-08-25T13:05:24.164205Z",
     "start_time": "2020-08-25T13:05:24.158221Z"
    }
   },
   "outputs": [],
   "source": [
    "import pandas as pd\n",
    "import numpy as np\n",
    "import sklearn\n",
    "from sklearn import linear_model\n",
    "from sklearn.utils import shuffle"
   ]
  },
  {
   "cell_type": "code",
   "execution_count": 104,
   "metadata": {
    "ExecuteTime": {
     "end_time": "2020-08-25T13:05:24.577102Z",
     "start_time": "2020-08-25T13:05:24.560148Z"
    }
   },
   "outputs": [],
   "source": [
    "data = pd.read_csv(\"student/student-mat.csv\", sep=\";\")"
   ]
  },
  {
   "cell_type": "code",
   "execution_count": 105,
   "metadata": {
    "ExecuteTime": {
     "end_time": "2020-08-25T13:05:24.984015Z",
     "start_time": "2020-08-25T13:05:24.968056Z"
    }
   },
   "outputs": [
    {
     "name": "stdout",
     "output_type": "stream",
     "text": [
      "  school sex  age address famsize Pstatus  Medu  Fedu     Mjob      Fjob  ...  \\\n",
      "0     GP   F   18       U     GT3       A     4     4  at_home   teacher  ...   \n",
      "1     GP   F   17       U     GT3       T     1     1  at_home     other  ...   \n",
      "2     GP   F   15       U     LE3       T     1     1  at_home     other  ...   \n",
      "3     GP   F   15       U     GT3       T     4     2   health  services  ...   \n",
      "4     GP   F   16       U     GT3       T     3     3    other     other  ...   \n",
      "\n",
      "  famrel freetime  goout  Dalc  Walc health absences  G1  G2  G3  \n",
      "0      4        3      4     1     1      3        6   5   6   6  \n",
      "1      5        3      3     1     1      3        4   5   5   6  \n",
      "2      4        3      2     2     3      3       10   7   8  10  \n",
      "3      3        2      2     1     1      5        2  15  14  15  \n",
      "4      4        3      2     1     2      5        4   6  10  10  \n",
      "\n",
      "[5 rows x 33 columns]\n"
     ]
    }
   ],
   "source": [
    "print(data.head())"
   ]
  },
  {
   "cell_type": "code",
   "execution_count": 106,
   "metadata": {
    "ExecuteTime": {
     "end_time": "2020-08-25T13:05:25.969198Z",
     "start_time": "2020-08-25T13:05:25.956234Z"
    }
   },
   "outputs": [
    {
     "name": "stderr",
     "output_type": "stream",
     "text": [
      "C:\\anaconda\\envs\\StockNewsAnalysis\\lib\\site-packages\\ipykernel_launcher.py:3: SettingWithCopyWarning: \n",
      "A value is trying to be set on a copy of a slice from a DataFrame\n",
      "\n",
      "See the caveats in the documentation: https://pandas.pydata.org/pandas-docs/stable/user_guide/indexing.html#returning-a-view-versus-a-copy\n",
      "  This is separate from the ipykernel package so we can avoid doing imports until\n"
     ]
    }
   ],
   "source": [
    "data = data[[\"G1\", \"G2\", \"G3\", \"studytime\", \"failures\", \"internet\", \"absences\"]]\n",
    "data.internet[data.internet =='yes'] =1\n",
    "data.internet[data.internet =='no'] =0"
   ]
  },
  {
   "cell_type": "code",
   "execution_count": 107,
   "metadata": {
    "ExecuteTime": {
     "end_time": "2020-08-25T13:05:28.449006Z",
     "start_time": "2020-08-25T13:05:28.438035Z"
    }
   },
   "outputs": [
    {
     "name": "stdout",
     "output_type": "stream",
     "text": [
      "   G1  G2  G3  studytime  failures internet  absences\n",
      "0   5   6   6          2         0        0         6\n",
      "1   5   5   6          2         0        1         4\n",
      "2   7   8  10          2         3        1        10\n",
      "3  15  14  15          3         0        1         2\n",
      "4   6  10  10          2         0        0         4\n"
     ]
    }
   ],
   "source": [
    "print(data.head())"
   ]
  },
  {
   "cell_type": "code",
   "execution_count": 108,
   "metadata": {
    "ExecuteTime": {
     "end_time": "2020-08-25T13:05:32.006716Z",
     "start_time": "2020-08-25T13:05:31.998747Z"
    }
   },
   "outputs": [],
   "source": [
    "predict = \"G3\"\n",
    "\n",
    "X = np.array(data.drop([predict], 1)) # Features\n",
    "y = np.array(data[predict]) # Labels"
   ]
  },
  {
   "cell_type": "code",
   "execution_count": 109,
   "metadata": {
    "ExecuteTime": {
     "end_time": "2020-08-25T13:05:32.357338Z",
     "start_time": "2020-08-25T13:05:32.352350Z"
    }
   },
   "outputs": [
    {
     "name": "stdout",
     "output_type": "stream",
     "text": [
      "[[5 6 2 0 0 6]\n",
      " [5 5 2 0 1 4]\n",
      " [7 8 2 3 1 10]\n",
      " ...\n",
      " [10 8 1 3 0 3]\n",
      " [11 12 1 0 1 0]\n",
      " [8 9 1 0 1 5]]\n"
     ]
    }
   ],
   "source": [
    "print(X)"
   ]
  },
  {
   "cell_type": "code",
   "execution_count": 110,
   "metadata": {
    "ExecuteTime": {
     "end_time": "2020-08-25T13:05:33.042506Z",
     "start_time": "2020-08-25T13:05:33.035524Z"
    }
   },
   "outputs": [
    {
     "name": "stdout",
     "output_type": "stream",
     "text": [
      "[ 6  6 10 15 10 15 11  6 19 15  9 12 14 11 16 14 14 10  5 10 15 15 16 12\n",
      "  8  8 11 15 11 11 12 17 16 12 15  6 18 15 11 13 11 12 18 11  9  6 11 20\n",
      " 14  7 13 13 10 11 13 10 15 15  9 16 11 11  9  9 10 15 12  6  8 16 15 10\n",
      "  5 14 11 10 10 11 10  5 12 11  6 15 10  8  6 14 10  7  8 18  6 10 14 10\n",
      " 15 10 14  8  5 17 14  6 18 11  8 18 13 16 19 10 13 19  9 16 14 13  8 13\n",
      " 15 15 13 13  8 12 11  9  0 18  0  0 12 11  0  0  0  0 12 15  0  9 11 13\n",
      "  0 11  0 11  0 10  0 14 10  0 12  8 13 10 15 12  0  7  0 10  7 12 10 16\n",
      "  0 14  0 16 10  0  9  9 11  6  9 11  8 12 17  8 12 11 11 15  9 10 13  9\n",
      "  8 10 14 15 16 10 18 10 16 10 10  6 11  9  7 13 10  7  8 13 14  8 10 15\n",
      "  4  8  8 10  6  0 17 13 14  7 15 12  9 12 14 11  9 13  6 10 13 12 11  0\n",
      " 12 12  0 12  0 18 13  8  5 15  8 10  8  8 12  8 13 11 14  0 18  8 12  9\n",
      "  0 17 10 11 10  0  9 14 11 14 10 12  9  9  8 10  8 10 12 10 11 11 19 12\n",
      " 14 15 11 15 13 18 14 11  0  8 14 16 11 10 14 18 13 12 18  8 12 10  0 13\n",
      " 11 11 13 11  0  9 10 11 13  9 11 15 15 11 16 10  9 14  8 14  0  0  0 15\n",
      " 13  0 17 10 11  0 15  0 10 14 16  9 15 13  8 13  8  8 11  9 13 11 10 16\n",
      " 13 12 10 15 12 10 13  0 10 11  9 12 11  5 19 10 15 10 15 10 14  7 10  0\n",
      "  5 10  6  0  8  0  9 16  7 10  9]\n"
     ]
    }
   ],
   "source": [
    "print(y)"
   ]
  },
  {
   "cell_type": "code",
   "execution_count": 111,
   "metadata": {
    "ExecuteTime": {
     "end_time": "2020-08-25T13:05:33.771159Z",
     "start_time": "2020-08-25T13:05:33.764185Z"
    }
   },
   "outputs": [],
   "source": [
    "x_train, x_test, y_train, y_test = sklearn.model_selection.train_test_split(X, y, test_size = 0.1)"
   ]
  },
  {
   "cell_type": "code",
   "execution_count": 112,
   "metadata": {
    "ExecuteTime": {
     "end_time": "2020-08-25T13:05:34.399500Z",
     "start_time": "2020-08-25T13:05:34.394507Z"
    }
   },
   "outputs": [],
   "source": [
    "linear = linear_model.LinearRegression()"
   ]
  },
  {
   "cell_type": "code",
   "execution_count": 113,
   "metadata": {
    "ExecuteTime": {
     "end_time": "2020-08-25T13:05:35.492907Z",
     "start_time": "2020-08-25T13:05:35.486924Z"
    }
   },
   "outputs": [],
   "source": [
    "linear.fit(x_train, y_train)\n",
    "acc = linear.score(x_test, y_test) # acc stands for accuracy "
   ]
  },
  {
   "cell_type": "code",
   "execution_count": 114,
   "metadata": {
    "ExecuteTime": {
     "end_time": "2020-08-25T13:05:36.571052Z",
     "start_time": "2020-08-25T13:05:36.564048Z"
    }
   },
   "outputs": [
    {
     "name": "stdout",
     "output_type": "stream",
     "text": [
      "0.7361041917259701\n"
     ]
    }
   ],
   "source": [
    "print(acc)"
   ]
  },
  {
   "cell_type": "code",
   "execution_count": 115,
   "metadata": {
    "ExecuteTime": {
     "end_time": "2020-08-25T13:05:37.683017Z",
     "start_time": "2020-08-25T13:05:37.676035Z"
    }
   },
   "outputs": [
    {
     "name": "stdout",
     "output_type": "stream",
     "text": [
      "Coefficient: \n",
      " [ 0.14807389  0.97746456 -0.14589152 -0.30203589 -0.32252176  0.03633802]\n",
      "Intercept: \n",
      " -1.2155845663460916\n"
     ]
    }
   ],
   "source": [
    "print('Coefficient: \\n', linear.coef_) # These are each slope value\n",
    "print('Intercept: \\n', linear.intercept_) # This is the intercept"
   ]
  },
  {
   "cell_type": "code",
   "execution_count": 116,
   "metadata": {
    "ExecuteTime": {
     "end_time": "2020-08-25T13:05:38.318707Z",
     "start_time": "2020-08-25T13:05:38.303748Z"
    }
   },
   "outputs": [
    {
     "name": "stdout",
     "output_type": "stream",
     "text": [
      "6.7697521262166696 [9 7 2 1 1 20] 8\n",
      "12.713198544466744 [11 13 1 1 1 10] 13\n",
      "9.719460513214724 [11 10 1 0 1 0] 10\n",
      "13.92710947506177 [14 14 3 0 1 4] 14\n",
      "7.47056598612992 [10 8 2 0 1 0] 9\n",
      "13.038442094516597 [12 13 1 1 0 6] 14\n",
      "7.857917371072439 [7 9 3 0 1 0] 8\n",
      "16.251401840087492 [16 16 2 0 1 2] 17\n",
      "4.6880933544765035 [8 6 2 2 1 2] 5\n",
      "13.31084278634647 [13 13 2 0 1 14] 14\n",
      "8.966235996941672 [10 10 3 2 1 8] 10\n",
      "10.797078632957062 [10 11 4 0 0 10] 11\n",
      "8.4480305474269 [10 9 2 0 1 0] 0\n",
      "8.981273450928455 [7 10 2 0 1 0] 11\n",
      "9.10483676929494 [11 9 2 0 1 14] 9\n",
      "6.1210163924511525 [7 7 3 0 1 6] 7\n",
      "8.547080583654001 [8 9 2 0 0 2] 10\n",
      "14.221074879552614 [15 14 2 0 1 4] 14\n",
      "12.721808455146522 [10 13 1 0 1 6] 13\n",
      "12.910585099819318 [13 13 3 0 1 7] 14\n",
      "7.320309732825342 [8 8 1 0 1 0] 11\n",
      "11.42640734437063 [12 11 1 0 1 16] 11\n",
      "7.465122406229865 [8 8 2 0 1 8] 6\n",
      "15.20126123079962 [16 15 2 0 1 0] 15\n",
      "9.794318928578386 [12 10 2 0 1 2] 11\n",
      "13.52194763121182 [12 14 3 0 1 1] 15\n",
      "11.964554405194987 [11 12 2 0 1 12] 11\n",
      "6.699462667108748 [6 8 1 3 1 16] 8\n",
      "3.8204711074591753 [6 5 3 1 0 0] 0\n",
      "12.654036564478432 [12 13 2 0 1 0] 14\n",
      "9.893368964805486 [10 10 2 0 0 4] 10\n",
      "8.374815076858754 [10 9 3 0 1 2] 9\n",
      "15.528842869335882 [16 15 1 0 1 5] 16\n",
      "8.770552307526726 [10 9 2 0 0 0] 9\n",
      "8.320442529001552 [9 9 2 1 0 0] 0\n",
      "4.62098648051348 [6 5 1 1 0 14] 5\n",
      "12.656218931851203 [13 13 3 0 1 0] 13\n",
      "-1.8497360931260136 [5 0 1 3 1 0] 0\n",
      "9.279603590164843 [10 10 3 0 1 0] 9\n",
      "13.162768900414664 [12 13 2 0 1 14] 12\n"
     ]
    }
   ],
   "source": [
    "predictions = linear.predict(x_test) # Gets a list of all predictions\n",
    "\n",
    "for x in range(len(predictions)):\n",
    "    print(predictions[x], x_test[x], y_test[x])"
   ]
  },
  {
   "cell_type": "code",
   "execution_count": 117,
   "metadata": {
    "ExecuteTime": {
     "end_time": "2020-08-25T13:05:39.106059Z",
     "start_time": "2020-08-25T13:05:39.098081Z"
    }
   },
   "outputs": [
    {
     "name": "stdout",
     "output_type": "stream",
     "text": [
      "[[9 7 2 1 1 20]\n",
      " [11 13 1 1 1 10]\n",
      " [11 10 1 0 1 0]\n",
      " [14 14 3 0 1 4]\n",
      " [10 8 2 0 1 0]\n",
      " [12 13 1 1 0 6]\n",
      " [7 9 3 0 1 0]\n",
      " [16 16 2 0 1 2]\n",
      " [8 6 2 2 1 2]\n",
      " [13 13 2 0 1 14]\n",
      " [10 10 3 2 1 8]\n",
      " [10 11 4 0 0 10]\n",
      " [10 9 2 0 1 0]\n",
      " [7 10 2 0 1 0]\n",
      " [11 9 2 0 1 14]\n",
      " [7 7 3 0 1 6]\n",
      " [8 9 2 0 0 2]\n",
      " [15 14 2 0 1 4]\n",
      " [10 13 1 0 1 6]\n",
      " [13 13 3 0 1 7]\n",
      " [8 8 1 0 1 0]\n",
      " [12 11 1 0 1 16]\n",
      " [8 8 2 0 1 8]\n",
      " [16 15 2 0 1 0]\n",
      " [12 10 2 0 1 2]\n",
      " [12 14 3 0 1 1]\n",
      " [11 12 2 0 1 12]\n",
      " [6 8 1 3 1 16]\n",
      " [6 5 3 1 0 0]\n",
      " [12 13 2 0 1 0]\n",
      " [10 10 2 0 0 4]\n",
      " [10 9 3 0 1 2]\n",
      " [16 15 1 0 1 5]\n",
      " [10 9 2 0 0 0]\n",
      " [9 9 2 1 0 0]\n",
      " [6 5 1 1 0 14]\n",
      " [13 13 3 0 1 0]\n",
      " [5 0 1 3 1 0]\n",
      " [10 10 3 0 1 0]\n",
      " [12 13 2 0 1 14]]\n"
     ]
    }
   ],
   "source": [
    "print(x_test)"
   ]
  },
  {
   "cell_type": "code",
   "execution_count": null,
   "metadata": {},
   "outputs": [],
   "source": []
  }
 ],
 "metadata": {
  "hide_input": false,
  "kernelspec": {
   "display_name": "Python 3",
   "language": "python",
   "name": "python3"
  },
  "language_info": {
   "codemirror_mode": {
    "name": "ipython",
    "version": 3
   },
   "file_extension": ".py",
   "mimetype": "text/x-python",
   "name": "python",
   "nbconvert_exporter": "python",
   "pygments_lexer": "ipython3",
   "version": "3.7.7"
  },
  "toc": {
   "base_numbering": 1,
   "nav_menu": {},
   "number_sections": true,
   "sideBar": true,
   "skip_h1_title": false,
   "title_cell": "Table of Contents",
   "title_sidebar": "Contents",
   "toc_cell": false,
   "toc_position": {},
   "toc_section_display": true,
   "toc_window_display": false
  },
  "varInspector": {
   "cols": {
    "lenName": 16,
    "lenType": 16,
    "lenVar": 40
   },
   "kernels_config": {
    "python": {
     "delete_cmd_postfix": "",
     "delete_cmd_prefix": "del ",
     "library": "var_list.py",
     "varRefreshCmd": "print(var_dic_list())"
    },
    "r": {
     "delete_cmd_postfix": ") ",
     "delete_cmd_prefix": "rm(",
     "library": "var_list.r",
     "varRefreshCmd": "cat(var_dic_list()) "
    }
   },
   "types_to_exclude": [
    "module",
    "function",
    "builtin_function_or_method",
    "instance",
    "_Feature"
   ],
   "window_display": false
  }
 },
 "nbformat": 4,
 "nbformat_minor": 4
}
